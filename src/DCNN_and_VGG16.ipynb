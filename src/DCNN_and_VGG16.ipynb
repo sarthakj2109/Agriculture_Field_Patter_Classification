{
  "nbformat": 4,
  "nbformat_minor": 0,
  "metadata": {
    "colab": {
      "name": "DCNN and VGG16.ipynb",
      "provenance": [],
      "collapsed_sections": []
    },
    "kernelspec": {
      "name": "python3",
      "display_name": "Python 3"
    },
    "accelerator": "GPU"
  },
  "cells": [
    {
      "cell_type": "code",
      "metadata": {
        "id": "n05f62pPsggA"
      },
      "source": [
        "import matplotlib.pyplot as plt\r\n",
        "import numpy as np\r\n",
        "import os\r\n",
        "import PIL #PIL stands for Python Imaging Library\r\n",
        "import tensorflow as tf\r\n",
        "\r\n",
        "from tensorflow import keras\r\n",
        "from tensorflow.keras import layers\r\n",
        "from tensorflow.keras.models import Sequential\r\n"
      ],
      "execution_count": null,
      "outputs": []
    },
    {
      "cell_type": "markdown",
      "metadata": {
        "id": "1Gqv-ON39Zow"
      },
      "source": [
        "Data Augmentation"
      ]
    },
    {
      "cell_type": "code",
      "metadata": {
        "colab": {
          "base_uri": "https://localhost:8080/"
        },
        "id": "6-g7WroWvpII",
        "outputId": "79028140-155b-4684-8739-04b8c596d220"
      },
      "source": [
        "!pip install Augmentor"
      ],
      "execution_count": null,
      "outputs": [
        {
          "output_type": "stream",
          "text": [
            "Collecting Augmentor\n",
            "  Downloading https://files.pythonhosted.org/packages/cb/79/861f38d5830cff631e30e33b127076bfef8ac98171e51daa06df0118c75f/Augmentor-0.2.8-py2.py3-none-any.whl\n",
            "Requirement already satisfied: future>=0.16.0 in /usr/local/lib/python3.7/dist-packages (from Augmentor) (0.16.0)\n",
            "Requirement already satisfied: Pillow>=5.2.0 in /usr/local/lib/python3.7/dist-packages (from Augmentor) (7.0.0)\n",
            "Requirement already satisfied: numpy>=1.11.0 in /usr/local/lib/python3.7/dist-packages (from Augmentor) (1.19.5)\n",
            "Requirement already satisfied: tqdm>=4.9.0 in /usr/local/lib/python3.7/dist-packages (from Augmentor) (4.41.1)\n",
            "Installing collected packages: Augmentor\n",
            "Successfully installed Augmentor-0.2.8\n"
          ],
          "name": "stdout"
        }
      ]
    },
    {
      "cell_type": "code",
      "metadata": {
        "colab": {
          "base_uri": "https://localhost:8080/"
        },
        "id": "03MntmcmAf5T",
        "outputId": "0771d888-cf11-49fa-a7d4-71fb8f82fc26"
      },
      "source": [
        "import sys\r\n",
        "import Augmentor\r\n",
        "\r\n",
        "p= Augmentor.Pipeline(\"/content/drive/MyDrive/Agriculture Vision Dataset/All Images/Img labels/cloud_shadow\")\r\n",
        "p.flip_left_right(0.7)\r\n",
        "p.rotate(0.3, 5,5)\r\n",
        "p.flip_top_bottom(0.3)\r\n",
        "p.zoom_random(0.4, percentage_area=0.5)\r\n",
        "p.skew(0.2,0.5)\r\n",
        "p.sample(2000)"
      ],
      "execution_count": null,
      "outputs": [
        {
          "output_type": "stream",
          "text": [
            "\rExecuting Pipeline:   0%|          | 0/2000 [00:00<?, ? Samples/s]"
          ],
          "name": "stderr"
        },
        {
          "output_type": "stream",
          "text": [
            "Initialised with 769 image(s) found.\n",
            "Output directory set to /content/drive/MyDrive/Agriculture Vision Dataset/All Images/Img labels/cloud_shadow/output."
          ],
          "name": "stdout"
        },
        {
          "output_type": "stream",
          "text": [
            "Processing <PIL.Image.Image image mode=RGB size=512x512 at 0x7F3A3785C610>: 100%|██████████| 2000/2000 [01:55<00:00, 17.29 Samples/s]\n"
          ],
          "name": "stderr"
        }
      ]
    },
    {
      "cell_type": "code",
      "metadata": {
        "colab": {
          "base_uri": "https://localhost:8080/"
        },
        "id": "1lcYcb3i4msj",
        "outputId": "79f70809-30b8-4768-bc9d-ade26d244a0f"
      },
      "source": [
        "p= Augmentor.Pipeline(\"/content/drive/MyDrive/Agriculture Vision Dataset/All Images/Img labels/standing_water\")\r\n",
        "p.flip_left_right(0.7)\r\n",
        "p.rotate(0.3, 5,5)\r\n",
        "p.flip_top_bottom(0.3)\r\n",
        "p.zoom_random(0.4, percentage_area=0.5)\r\n",
        "p.skew(0.2,0.5)\r\n",
        "p.sample(2000)"
      ],
      "execution_count": null,
      "outputs": [
        {
          "output_type": "stream",
          "text": [
            "\rExecuting Pipeline:   0%|          | 0/2000 [00:00<?, ? Samples/s]"
          ],
          "name": "stderr"
        },
        {
          "output_type": "stream",
          "text": [
            "Initialised with 830 image(s) found.\n",
            "Output directory set to /content/drive/MyDrive/Agriculture Vision Dataset/All Images/Img labels/standing_water/output."
          ],
          "name": "stdout"
        },
        {
          "output_type": "stream",
          "text": [
            "Processing <PIL.Image.Image image mode=RGB size=512x512 at 0x7F3A85650E50>: 100%|██████████| 2000/2000 [02:00<00:00, 16.61 Samples/s]\n"
          ],
          "name": "stderr"
        }
      ]
    },
    {
      "cell_type": "code",
      "metadata": {
        "colab": {
          "base_uri": "https://localhost:8080/"
        },
        "id": "zsl0CMAM0WdJ",
        "outputId": "76375157-dc47-415f-da09-c91225406fea"
      },
      "source": [
        "p= Augmentor.Pipeline(\"/content/drive/MyDrive/Agriculture Vision Dataset/All Images/Img labels/weed_cluster\")\r\n",
        "p.flip_left_right(0.7)\r\n",
        "p.rotate(0.3, 5,5)\r\n",
        "p.flip_top_bottom(0.3)\r\n",
        "p.zoom_random(0.4, percentage_area=0.5)\r\n",
        "p.skew(0.2,0.5)\r\n",
        "p.sample(2000)"
      ],
      "execution_count": null,
      "outputs": [
        {
          "output_type": "stream",
          "text": [
            "\rExecuting Pipeline:   0%|          | 0/2000 [00:00<?, ? Samples/s]"
          ],
          "name": "stderr"
        },
        {
          "output_type": "stream",
          "text": [
            "Initialised with 1740 image(s) found.\n",
            "Output directory set to /content/drive/MyDrive/Agriculture Vision Dataset/All Images/Img labels/weed_cluster/output."
          ],
          "name": "stdout"
        },
        {
          "output_type": "stream",
          "text": [
            "Processing <PIL.Image.Image image mode=RGB size=512x512 at 0x7F3A373F9410>: 100%|██████████| 2000/2000 [01:56<00:00, 17.14 Samples/s]\n"
          ],
          "name": "stderr"
        }
      ]
    },
    {
      "cell_type": "code",
      "metadata": {
        "colab": {
          "base_uri": "https://localhost:8080/"
        },
        "id": "17nwJ9ObAf7p",
        "outputId": "0e26aff1-056b-489b-ce59-b44e3316cf65"
      },
      "source": [
        "p= Augmentor.Pipeline(\"/content/drive/MyDrive/Agriculture Vision Dataset/All Images/Img labels/waterway\")\r\n",
        "p.flip_left_right(0.7)\r\n",
        "p.rotate(0.3, 5,5)\r\n",
        "p.flip_top_bottom(0.3)\r\n",
        "p.zoom_random(0.4, percentage_area=0.5)\r\n",
        "p.skew(0.2,0.5)\r\n",
        "p.sample(2000)"
      ],
      "execution_count": null,
      "outputs": [
        {
          "output_type": "stream",
          "text": [
            "\rExecuting Pipeline:   0%|          | 0/2000 [00:00<?, ? Samples/s]"
          ],
          "name": "stderr"
        },
        {
          "output_type": "stream",
          "text": [
            "Initialised with 808 image(s) found.\n",
            "Output directory set to /content/drive/MyDrive/Agriculture Vision Dataset/All Images/Img labels/waterway/output."
          ],
          "name": "stdout"
        },
        {
          "output_type": "stream",
          "text": [
            "Processing <PIL.Image.Image image mode=RGB size=512x512 at 0x7F3A80146850>: 100%|██████████| 2000/2000 [02:01<00:00, 16.41 Samples/s]\n"
          ],
          "name": "stderr"
        }
      ]
    },
    {
      "cell_type": "markdown",
      "metadata": {
        "id": "2sAF4pd29dsE"
      },
      "source": [
        "Splitting Dataset"
      ]
    },
    {
      "cell_type": "code",
      "metadata": {
        "colab": {
          "base_uri": "https://localhost:8080/"
        },
        "id": "ZFXXReosAf_Q",
        "outputId": "d1fd2cea-fc3c-4503-ce0a-8e181bbd4705"
      },
      "source": [
        "image_size=(512,512)\r\n",
        "train_ds = tf.keras.preprocessing.image_dataset_from_directory(\r\n",
        "    \"/content/drive/MyDrive/Agriculture Vision Dataset/New Augmented\",\r\n",
        "    validation_split=0.1,\r\n",
        "    subset=\"training\",\r\n",
        "    seed=456,\r\n",
        "    image_size=image_size,\r\n",
        "    batch_size=32,\r\n",
        ")\r\n",
        "val_ds = tf.keras.preprocessing.image_dataset_from_directory(\r\n",
        "    \"/content/drive/MyDrive/Agriculture Vision Dataset/New Augmented\",\r\n",
        "    validation_split=0.1,\r\n",
        "    subset=\"validation\",\r\n",
        "    seed=456,\r\n",
        "    image_size=image_size,\r\n",
        "    batch_size=32,\r\n",
        ")"
      ],
      "execution_count": null,
      "outputs": [
        {
          "output_type": "stream",
          "text": [
            "Found 8000 files belonging to 4 classes.\n",
            "Using 7200 files for training.\n",
            "Found 8000 files belonging to 4 classes.\n",
            "Using 800 files for validation.\n"
          ],
          "name": "stdout"
        }
      ]
    },
    {
      "cell_type": "code",
      "metadata": {
        "id": "5tKVrzKjs7J9"
      },
      "source": [
        ""
      ],
      "execution_count": null,
      "outputs": []
    },
    {
      "cell_type": "markdown",
      "metadata": {
        "id": "yorsO8vC_HP-"
      },
      "source": [
        "Experiment 1"
      ]
    },
    {
      "cell_type": "markdown",
      "metadata": {
        "id": "dprb3RkPAeId"
      },
      "source": [
        "Using Adam Optimizer"
      ]
    },
    {
      "cell_type": "code",
      "metadata": {
        "id": "15LyGuqVs7NM"
      },
      "source": [
        "num_classes = 4\r\n",
        "\r\n",
        "model = Sequential([\r\n",
        "  layers.experimental.preprocessing.Rescaling(1./255, input_shape=(512, 512, 3)),\r\n",
        "  layers.Conv2D(16, 3, padding='same', activation='relu'),\r\n",
        "  layers.MaxPooling2D(),\r\n",
        "  layers.Conv2D(32, 3, padding='same', activation='relu'),\r\n",
        "  layers.MaxPooling2D(),\r\n",
        "  layers.Conv2D(64, 3, padding='same', activation='relu'),\r\n",
        "  layers.MaxPooling2D(),\r\n",
        "  layers.Flatten(),\r\n",
        "  layers.Dense(128, activation='relu'),\r\n",
        "  layers.Dense(num_classes)\r\n",
        "])\r\n",
        "\r\n",
        "\r\n",
        "model.compile(optimizer='adam',\r\n",
        "              loss=tf.keras.losses.SparseCategoricalCrossentropy(from_logits=True),\r\n",
        "              metrics=['accuracy'])\r\n"
      ],
      "execution_count": null,
      "outputs": []
    },
    {
      "cell_type": "markdown",
      "metadata": {
        "id": "vJRv66HD_JuC"
      },
      "source": [
        "10 Epochs"
      ]
    },
    {
      "cell_type": "code",
      "metadata": {
        "colab": {
          "base_uri": "https://localhost:8080/"
        },
        "id": "nj9QhtOSs7Qk",
        "outputId": "804bb21b-ad4a-4924-e9d4-060e77fbb864"
      },
      "source": [
        "epochs=10\r\n",
        "h1 = model.fit(\r\n",
        "  train_ds,\r\n",
        "  validation_data=val_ds,\r\n",
        "  epochs=epochs\r\n",
        ")"
      ],
      "execution_count": null,
      "outputs": [
        {
          "output_type": "stream",
          "text": [
            "Epoch 1/10\n",
            "225/225 [==============================] - 68s 298ms/step - loss: 2.5044 - accuracy: 0.4217 - val_loss: 1.0188 - val_accuracy: 0.5612\n",
            "Epoch 2/10\n",
            "225/225 [==============================] - 68s 299ms/step - loss: 0.9417 - accuracy: 0.6068 - val_loss: 0.8558 - val_accuracy: 0.6600\n",
            "Epoch 3/10\n",
            "225/225 [==============================] - 68s 297ms/step - loss: 0.8130 - accuracy: 0.6716 - val_loss: 0.7591 - val_accuracy: 0.7100\n",
            "Epoch 4/10\n",
            "225/225 [==============================] - 67s 296ms/step - loss: 0.7127 - accuracy: 0.7211 - val_loss: 0.7838 - val_accuracy: 0.6963\n",
            "Epoch 5/10\n",
            "225/225 [==============================] - 68s 300ms/step - loss: 0.6445 - accuracy: 0.7586 - val_loss: 0.7825 - val_accuracy: 0.6938\n",
            "Epoch 6/10\n",
            "225/225 [==============================] - 68s 298ms/step - loss: 0.5266 - accuracy: 0.8067 - val_loss: 0.8457 - val_accuracy: 0.6900\n",
            "Epoch 7/10\n",
            "225/225 [==============================] - 67s 295ms/step - loss: 0.4093 - accuracy: 0.8500 - val_loss: 0.9125 - val_accuracy: 0.6988\n",
            "Epoch 8/10\n",
            "225/225 [==============================] - 67s 296ms/step - loss: 0.3029 - accuracy: 0.8964 - val_loss: 1.0525 - val_accuracy: 0.6963\n",
            "Epoch 9/10\n",
            "225/225 [==============================] - 67s 295ms/step - loss: 0.2292 - accuracy: 0.9201 - val_loss: 1.1430 - val_accuracy: 0.6913\n",
            "Epoch 10/10\n",
            "225/225 [==============================] - 67s 295ms/step - loss: 0.1800 - accuracy: 0.9371 - val_loss: 1.2524 - val_accuracy: 0.6862\n"
          ],
          "name": "stdout"
        }
      ]
    },
    {
      "cell_type": "code",
      "metadata": {
        "colab": {
          "base_uri": "https://localhost:8080/",
          "height": 499
        },
        "id": "y6N8tZMOy4wk",
        "outputId": "103b994a-f2a3-435a-ff35-6db54ac13de5"
      },
      "source": [
        "acc = h1.history['accuracy']\r\n",
        "val_acc = h1.history['val_accuracy']\r\n",
        "\r\n",
        "loss = h1.history['loss']\r\n",
        "val_loss = h1.history['val_loss']\r\n",
        "\r\n",
        "epochs_range = range(epochs)\r\n",
        "\r\n",
        "plt.figure(figsize=(8, 8))\r\n",
        "plt.subplot(1, 2, 1)\r\n",
        "plt.plot(epochs_range, acc, label='Training Accuracy')\r\n",
        "plt.plot(epochs_range, val_acc, label='Validation Accuracy')\r\n",
        "plt.legend(loc='lower right')\r\n",
        "plt.title('Training and Validation Accuracy')\r\n",
        "\r\n",
        "plt.subplot(1, 2, 2)\r\n",
        "plt.plot(epochs_range, loss, label='Training Loss')\r\n",
        "plt.plot(epochs_range, val_loss, label='Validation Loss')\r\n",
        "plt.legend(loc='upper right')\r\n",
        "plt.title('Training and Validation Loss')\r\n",
        "plt.show()"
      ],
      "execution_count": null,
      "outputs": [
        {
          "output_type": "display_data",
          "data": {
            "image/png": "[encoded data removed]",
            "text/plain": [
              "<Figure size 576x576 with 2 Axes>"
            ]
          },
          "metadata": {
            "tags": [],
            "needs_background": "light"
          }
        }
      ]
    },
    {
      "cell_type": "code",
      "metadata": {
        "id": "w77UAn5wy455"
      },
      "source": [
        ""
      ],
      "execution_count": null,
      "outputs": []
    },
    {
      "cell_type": "markdown",
      "metadata": {
        "id": "x49YTZD9_Mth"
      },
      "source": [
        "20 Epochs"
      ]
    },
    {
      "cell_type": "code",
      "metadata": {
        "colab": {
          "base_uri": "https://localhost:8080/"
        },
        "id": "4vPmzdz3syp1",
        "outputId": "3cd342db-0710-4d2a-ff97-bd0592914055"
      },
      "source": [
        "epochs=20\r\n",
        "h1 = model.fit(\r\n",
        "  train_ds,\r\n",
        "  validation_data=val_ds,\r\n",
        "  epochs=epochs\r\n",
        ")"
      ],
      "execution_count": null,
      "outputs": [
        {
          "output_type": "stream",
          "text": [
            "Epoch 1/20\n",
            "225/225 [==============================] - 67s 294ms/step - loss: 3.0707 - accuracy: 0.3633 - val_loss: 1.1518 - val_accuracy: 0.4563\n",
            "Epoch 2/20\n",
            "225/225 [==============================] - 67s 296ms/step - loss: 1.0182 - accuracy: 0.5730 - val_loss: 0.8892 - val_accuracy: 0.6250\n",
            "Epoch 3/20\n",
            "225/225 [==============================] - 68s 295ms/step - loss: 0.9057 - accuracy: 0.6348 - val_loss: 0.8131 - val_accuracy: 0.6837\n",
            "Epoch 4/20\n",
            "225/225 [==============================] - 68s 296ms/step - loss: 0.7676 - accuracy: 0.6953 - val_loss: 0.7841 - val_accuracy: 0.6862\n",
            "Epoch 5/20\n",
            "225/225 [==============================] - 68s 297ms/step - loss: 0.6764 - accuracy: 0.7357 - val_loss: 0.7269 - val_accuracy: 0.7075\n",
            "Epoch 6/20\n",
            "225/225 [==============================] - 68s 298ms/step - loss: 0.5892 - accuracy: 0.7693 - val_loss: 0.8437 - val_accuracy: 0.6675\n",
            "Epoch 7/20\n",
            "225/225 [==============================] - 67s 295ms/step - loss: 0.4999 - accuracy: 0.8159 - val_loss: 0.8804 - val_accuracy: 0.6988\n",
            "Epoch 8/20\n",
            "225/225 [==============================] - 67s 296ms/step - loss: 0.4057 - accuracy: 0.8549 - val_loss: 0.8488 - val_accuracy: 0.7038\n",
            "Epoch 9/20\n",
            "225/225 [==============================] - 67s 295ms/step - loss: 0.3041 - accuracy: 0.8889 - val_loss: 0.9787 - val_accuracy: 0.7050\n",
            "Epoch 10/20\n",
            "225/225 [==============================] - 67s 294ms/step - loss: 0.2587 - accuracy: 0.9084 - val_loss: 1.1330 - val_accuracy: 0.7212\n",
            "Epoch 11/20\n",
            "225/225 [==============================] - 67s 294ms/step - loss: 0.1538 - accuracy: 0.9474 - val_loss: 1.2273 - val_accuracy: 0.7200\n",
            "Epoch 12/20\n",
            "225/225 [==============================] - 67s 295ms/step - loss: 0.1424 - accuracy: 0.9520 - val_loss: 1.1800 - val_accuracy: 0.7163\n",
            "Epoch 13/20\n",
            "225/225 [==============================] - 67s 295ms/step - loss: 0.1208 - accuracy: 0.9595 - val_loss: 1.3606 - val_accuracy: 0.6975\n",
            "Epoch 14/20\n",
            "225/225 [==============================] - 67s 294ms/step - loss: 0.0773 - accuracy: 0.9754 - val_loss: 1.5823 - val_accuracy: 0.7100\n",
            "Epoch 15/20\n",
            "225/225 [==============================] - 67s 293ms/step - loss: 0.0643 - accuracy: 0.9800 - val_loss: 1.4882 - val_accuracy: 0.7150\n",
            "Epoch 16/20\n",
            "225/225 [==============================] - 67s 294ms/step - loss: 0.0714 - accuracy: 0.9796 - val_loss: 1.5250 - val_accuracy: 0.7275\n",
            "Epoch 17/20\n",
            "225/225 [==============================] - 67s 294ms/step - loss: 0.1070 - accuracy: 0.9653 - val_loss: 1.5441 - val_accuracy: 0.7400\n",
            "Epoch 18/20\n",
            "225/225 [==============================] - 67s 295ms/step - loss: 0.0525 - accuracy: 0.9814 - val_loss: 1.4576 - val_accuracy: 0.7325\n",
            "Epoch 19/20\n",
            "225/225 [==============================] - 67s 294ms/step - loss: 0.0507 - accuracy: 0.9865 - val_loss: 1.9926 - val_accuracy: 0.6700\n",
            "Epoch 20/20\n",
            "225/225 [==============================] - 67s 295ms/step - loss: 0.1585 - accuracy: 0.9446 - val_loss: 1.8961 - val_accuracy: 0.7013\n"
          ],
          "name": "stdout"
        }
      ]
    },
    {
      "cell_type": "code",
      "metadata": {
        "colab": {
          "base_uri": "https://localhost:8080/",
          "height": 499
        },
        "id": "9hHIxygqs7DG",
        "outputId": "3ec265ae-c1b9-496d-fd68-5e11a0f83fbc"
      },
      "source": [
        "acc = h1.history['accuracy']\r\n",
        "val_acc = h1.history['val_accuracy']\r\n",
        "\r\n",
        "loss = h1.history['loss']\r\n",
        "val_loss = h1.history['val_loss']\r\n",
        "\r\n",
        "epochs_range = range(epochs)\r\n",
        "\r\n",
        "plt.figure(figsize=(8, 8))\r\n",
        "plt.subplot(1, 2, 1)\r\n",
        "plt.plot(epochs_range, acc, label='Training Accuracy')\r\n",
        "plt.plot(epochs_range, val_acc, label='Validation Accuracy')\r\n",
        "plt.legend(loc='lower right')\r\n",
        "plt.title('Training and Validation Accuracy')\r\n",
        "\r\n",
        "plt.subplot(1, 2, 2)\r\n",
        "plt.plot(epochs_range, loss, label='Training Loss')\r\n",
        "plt.plot(epochs_range, val_loss, label='Validation Loss')\r\n",
        "plt.legend(loc='upper right')\r\n",
        "plt.title('Training and Validation Loss')\r\n",
        "plt.show()"
      ],
      "execution_count": null,
      "outputs": [
        {
          "output_type": "display_data",
          "data": {
            "image/png": "[encoded data removed]",
            "text/plain": [
              "<Figure size 576x576 with 2 Axes>"
            ]
          },
          "metadata": {
            "tags": [],
            "needs_background": "light"
          }
        }
      ]
    },
    {
      "cell_type": "code",
      "metadata": {
        "id": "rziLuNycy49-"
      },
      "source": [
        ""
      ],
      "execution_count": null,
      "outputs": []
    },
    {
      "cell_type": "markdown",
      "metadata": {
        "id": "_uobIw5EAEad"
      },
      "source": [
        "Using SGD Optimizer"
      ]
    },
    {
      "cell_type": "markdown",
      "metadata": {
        "id": "5fVMfBv2AHMp"
      },
      "source": [
        "Epochs = 10"
      ]
    },
    {
      "cell_type": "code",
      "metadata": {
        "colab": {
          "base_uri": "https://localhost:8080/"
        },
        "id": "RCIumljvZiF0",
        "outputId": "738996c2-a068-4ec7-db8e-0f3d32029c9b"
      },
      "source": [
        "opt = tf.keras.optimizers.SGD(learning_rate=0.0001)\r\n",
        "model.compile(optimizer=opt,\r\n",
        "              loss=tf.keras.losses.SparseCategoricalCrossentropy(from_logits=True),\r\n",
        "              metrics=['accuracy'])\r\n",
        "\r\n",
        "epochs=10\r\n",
        "h1 = model.fit(\r\n",
        "  train_ds,\r\n",
        "  validation_data=val_ds,\r\n",
        "  epochs=epochs\r\n",
        ")"
      ],
      "execution_count": null,
      "outputs": [
        {
          "output_type": "stream",
          "text": [
            "Epoch 1/10\n",
            "169/169 [==============================] - 160s 900ms/step - loss: 2.9371 - accuracy: 0.2014 - val_loss: 1.6179 - val_accuracy: 0.3375\n",
            "Epoch 2/10\n",
            "169/169 [==============================] - 149s 864ms/step - loss: 1.5894 - accuracy: 0.3457 - val_loss: 1.4386 - val_accuracy: 0.4325\n",
            "Epoch 3/10\n",
            "169/169 [==============================] - 148s 865ms/step - loss: 1.2722 - accuracy: 0.5033 - val_loss: 1.5544 - val_accuracy: 0.4508\n",
            "Epoch 4/10\n",
            "169/169 [==============================] - 147s 858ms/step - loss: 1.0726 - accuracy: 0.5877 - val_loss: 1.8353 - val_accuracy: 0.4933\n",
            "Epoch 5/10\n",
            "169/169 [==============================] - 147s 858ms/step - loss: 0.9523 - accuracy: 0.6343 - val_loss: 1.7831 - val_accuracy: 0.4875\n",
            "Epoch 6/10\n",
            "169/169 [==============================] - 147s 858ms/step - loss: 0.8153 - accuracy: 0.6967 - val_loss: 2.0082 - val_accuracy: 0.5142\n",
            "Epoch 7/10\n",
            "169/169 [==============================] - 148s 861ms/step - loss: 0.6016 - accuracy: 0.7889 - val_loss: 2.4511 - val_accuracy: 0.5083\n",
            "Epoch 8/10\n",
            "169/169 [==============================] - 147s 857ms/step - loss: 0.3824 - accuracy: 0.8681 - val_loss: 3.0499 - val_accuracy: 0.5017\n",
            "Epoch 9/10\n",
            "169/169 [==============================] - 148s 861ms/step - loss: 0.2085 - accuracy: 0.9340 - val_loss: 3.3698 - val_accuracy: 0.4925\n",
            "Epoch 10/10\n",
            "169/169 [==============================] - 146s 851ms/step - loss: 0.1463 - accuracy: 0.9593 - val_loss: 3.3517 - val_accuracy: 0.5033\n"
          ],
          "name": "stdout"
        }
      ]
    },
    {
      "cell_type": "code",
      "metadata": {
        "colab": {
          "base_uri": "https://localhost:8080/",
          "height": 499
        },
        "id": "tG0jH5VaZiKA",
        "outputId": "e19e9080-fd8b-44fe-ed24-5d22a2f00bd9"
      },
      "source": [
        "acc = h1.history['accuracy']\r\n",
        "val_acc = h1.history['val_accuracy']\r\n",
        "\r\n",
        "loss = h1.history['loss']\r\n",
        "val_loss = h1.history['val_loss']\r\n",
        "\r\n",
        "epochs_range = range(epochs)\r\n",
        "\r\n",
        "plt.figure(figsize=(8, 8))\r\n",
        "plt.subplot(1, 2, 1)\r\n",
        "plt.plot(epochs_range, acc, label='Training Accuracy')\r\n",
        "plt.plot(epochs_range, val_acc, label='Validation Accuracy')\r\n",
        "plt.legend(loc='lower right')\r\n",
        "plt.title('Training and Validation Accuracy')\r\n",
        "\r\n",
        "plt.subplot(1, 2, 2)\r\n",
        "plt.plot(epochs_range, loss, label='Training Loss')\r\n",
        "plt.plot(epochs_range, val_loss, label='Validation Loss')\r\n",
        "plt.legend(loc='upper right')\r\n",
        "plt.title('Training and Validation Loss')\r\n",
        "plt.show()"
      ],
      "execution_count": null,
      "outputs": [
        {
          "output_type": "display_data",
          "data": {
            "image/png": "[encoded data removed]",
            "text/plain": [
              "<Figure size 576x576 with 2 Axes>"
            ]
          },
          "metadata": {
            "tags": [],
            "needs_background": "light"
          }
        }
      ]
    },
    {
      "cell_type": "markdown",
      "metadata": {
        "id": "KcJjA4JlAMoE"
      },
      "source": [
        "Epochs = 20"
      ]
    },
    {
      "cell_type": "code",
      "metadata": {
        "colab": {
          "base_uri": "https://localhost:8080/"
        },
        "id": "bkSqCMzYv0XT",
        "outputId": "8882fdc3-6453-4c86-cc81-6acde1fd4e55"
      },
      "source": [
        "opt = tf.keras.optimizers.SGD(learning_rate=0.0001)\r\n",
        "model.compile(optimizer=opt,\r\n",
        "              loss=tf.keras.losses.SparseCategoricalCrossentropy(from_logits=True),\r\n",
        "              metrics=['accuracy'])\r\n",
        "\r\n",
        "epochs=20\r\n",
        "h1 = model.fit(\r\n",
        "  train_ds,\r\n",
        "  validation_data=val_ds,\r\n",
        "  epochs=epochs\r\n",
        ")"
      ],
      "execution_count": null,
      "outputs": [
        {
          "output_type": "stream",
          "text": [
            "Epoch 1/20\n",
            "282/282 [==============================] - 85s 296ms/step - loss: 2.9679 - accuracy: 0.3064 - val_loss: 1.3454 - val_accuracy: 0.4660\n",
            "Epoch 2/20\n",
            "282/282 [==============================] - 84s 293ms/step - loss: 1.2767 - accuracy: 0.4854 - val_loss: 1.1998 - val_accuracy: 0.5130\n",
            "Epoch 3/20\n",
            "282/282 [==============================] - 83s 293ms/step - loss: 1.1409 - accuracy: 0.5541 - val_loss: 1.1540 - val_accuracy: 0.5440\n",
            "Epoch 4/20\n",
            "282/282 [==============================] - 83s 292ms/step - loss: 1.0287 - accuracy: 0.6019 - val_loss: 1.1245 - val_accuracy: 0.5740\n",
            "Epoch 5/20\n",
            "282/282 [==============================] - 83s 292ms/step - loss: 0.9187 - accuracy: 0.6482 - val_loss: 1.0574 - val_accuracy: 0.5810\n",
            "Epoch 6/20\n",
            "282/282 [==============================] - 83s 292ms/step - loss: 0.8344 - accuracy: 0.6850 - val_loss: 1.0581 - val_accuracy: 0.6100\n",
            "Epoch 7/20\n",
            "282/282 [==============================] - 83s 293ms/step - loss: 0.7671 - accuracy: 0.7095 - val_loss: 1.0915 - val_accuracy: 0.6050\n",
            "Epoch 8/20\n",
            "282/282 [==============================] - 84s 293ms/step - loss: 0.6306 - accuracy: 0.7618 - val_loss: 1.1204 - val_accuracy: 0.6270\n",
            "Epoch 9/20\n",
            "282/282 [==============================] - 84s 293ms/step - loss: 0.4793 - accuracy: 0.8223 - val_loss: 1.2323 - val_accuracy: 0.6500\n",
            "Epoch 10/20\n",
            "282/282 [==============================] - 84s 293ms/step - loss: 0.3489 - accuracy: 0.8819 - val_loss: 1.2037 - val_accuracy: 0.6580\n",
            "Epoch 11/20\n",
            "282/282 [==============================] - 84s 293ms/step - loss: 0.2705 - accuracy: 0.9073 - val_loss: 1.4375 - val_accuracy: 0.6070\n",
            "Epoch 12/20\n",
            "282/282 [==============================] - 84s 295ms/step - loss: 0.2145 - accuracy: 0.9276 - val_loss: 1.4870 - val_accuracy: 0.6500\n",
            "Epoch 13/20\n",
            "282/282 [==============================] - 84s 294ms/step - loss: 0.1527 - accuracy: 0.9467 - val_loss: 1.5665 - val_accuracy: 0.6510\n",
            "Epoch 14/20\n",
            "282/282 [==============================] - 84s 295ms/step - loss: 0.1940 - accuracy: 0.9404 - val_loss: 1.9514 - val_accuracy: 0.6170\n",
            "Epoch 15/20\n",
            "282/282 [==============================] - 85s 297ms/step - loss: 0.1275 - accuracy: 0.9602 - val_loss: 2.2625 - val_accuracy: 0.5920\n",
            "Epoch 16/20\n",
            "282/282 [==============================] - 84s 296ms/step - loss: 0.1357 - accuracy: 0.9563 - val_loss: 2.0374 - val_accuracy: 0.6390\n",
            "Epoch 17/20\n",
            "282/282 [==============================] - 84s 294ms/step - loss: 0.0780 - accuracy: 0.9754 - val_loss: 2.0465 - val_accuracy: 0.6300\n",
            "Epoch 18/20\n",
            "282/282 [==============================] - 84s 294ms/step - loss: 0.0815 - accuracy: 0.9772 - val_loss: 2.1146 - val_accuracy: 0.6370\n",
            "Epoch 19/20\n",
            "282/282 [==============================] - 84s 294ms/step - loss: 0.0492 - accuracy: 0.9847 - val_loss: 2.2083 - val_accuracy: 0.6390\n",
            "Epoch 20/20\n",
            "282/282 [==============================] - 84s 294ms/step - loss: 0.0687 - accuracy: 0.9781 - val_loss: 2.8639 - val_accuracy: 0.5970\n"
          ],
          "name": "stdout"
        }
      ]
    },
    {
      "cell_type": "code",
      "metadata": {
        "colab": {
          "base_uri": "https://localhost:8080/",
          "height": 499
        },
        "id": "J_0dN4a1v0jF",
        "outputId": "5ba9bf93-099e-4242-a18d-a2cac105703a"
      },
      "source": [
        "acc = h1.history['accuracy']\r\n",
        "val_acc = h1.history['val_accuracy']\r\n",
        "\r\n",
        "loss = h1.history['loss']\r\n",
        "val_loss = h1.history['val_loss']\r\n",
        "\r\n",
        "epochs_range = range(epochs)\r\n",
        "\r\n",
        "plt.figure(figsize=(8, 8))\r\n",
        "plt.subplot(1, 2, 1)\r\n",
        "plt.plot(epochs_range, acc, label='Training Accuracy')\r\n",
        "plt.plot(epochs_range, val_acc, label='Validation Accuracy')\r\n",
        "plt.legend(loc='lower right')\r\n",
        "plt.title('Training and Validation Accuracy')\r\n",
        "\r\n",
        "plt.subplot(1, 2, 2)\r\n",
        "plt.plot(epochs_range, loss, label='Training Loss')\r\n",
        "plt.plot(epochs_range, val_loss, label='Validation Loss')\r\n",
        "plt.legend(loc='upper right')\r\n",
        "plt.title('Training and Validation Loss')\r\n",
        "plt.show()"
      ],
      "execution_count": null,
      "outputs": [
        {
          "output_type": "display_data",
          "data": {
            "image/png": "[encoded data removed]",
            "text/plain": [
              "<Figure size 576x576 with 2 Axes>"
            ]
          },
          "metadata": {
            "tags": [],
            "needs_background": "light"
          }
        }
      ]
    },
    {
      "cell_type": "code",
      "metadata": {
        "id": "CLbYbDgd_WUA"
      },
      "source": [
        ""
      ],
      "execution_count": null,
      "outputs": []
    },
    {
      "cell_type": "code",
      "metadata": {
        "id": "OVIcLBqq_WWo"
      },
      "source": [
        ""
      ],
      "execution_count": null,
      "outputs": []
    },
    {
      "cell_type": "markdown",
      "metadata": {
        "id": "e7a5qNc053Ho"
      },
      "source": [
        "VGG16"
      ]
    },
    {
      "cell_type": "markdown",
      "metadata": {
        "id": "YO6IWUgd6gTh"
      },
      "source": [
        "Experiment 1"
      ]
    },
    {
      "cell_type": "code",
      "metadata": {
        "id": "JSVfWPa4tr76"
      },
      "source": [
        "from tensorflow.keras.applications.vgg16 import VGG16\r\n",
        "\r\n",
        "ip=layers.Input(shape=(512, 512, 3))\r\n",
        "base_model = VGG16(input_tensor = ip,  # Shape of our images\r\n",
        "include_top = False, # Leave out the last fully connected layer\r\n",
        "weights = \"/content/drive/MyDrive/vgg16_weights_tf_dim_ordering_tf_kernels_notop.h5\",\r\n",
        "classes = 4, pooling = 'avg') "
      ],
      "execution_count": null,
      "outputs": []
    },
    {
      "cell_type": "code",
      "metadata": {
        "id": "nQ1Ahircv4iD"
      },
      "source": [
        "output = layers.Dense(4, activation='softmax')(base_model.output)\r\n",
        "model = tf.keras.models.Model(base_model.input, output)\r\n"
      ],
      "execution_count": null,
      "outputs": []
    },
    {
      "cell_type": "code",
      "metadata": {
        "id": "OK9k6a8gwnKh"
      },
      "source": [
        "model.compile(optimizer='adam',\r\n",
        "              loss=tf.keras.losses.SparseCategoricalCrossentropy(from_logits=True),\r\n",
        "              metrics=['accuracy'])"
      ],
      "execution_count": null,
      "outputs": []
    },
    {
      "cell_type": "code",
      "metadata": {
        "colab": {
          "base_uri": "https://localhost:8080/"
        },
        "id": "VGc67WOjwYJ1",
        "outputId": "c5ee8159-7ebe-4a78-c52a-b09f2feca3bd"
      },
      "source": [
        "vgghist = model.fit(train_ds, validation_data = val_ds, steps_per_epoch = 10, epochs = 10)"
      ],
      "execution_count": null,
      "outputs": [
        {
          "output_type": "stream",
          "text": [
            "Epoch 1/10\n",
            "10/10 [==============================] - 64s 6s/step - loss: 98.5583 - accuracy: 0.1261 - val_loss: 1.7918 - val_accuracy: 0.1683\n",
            "Epoch 2/10\n",
            "10/10 [==============================] - 59s 6s/step - loss: 1.7918 - accuracy: 0.1347 - val_loss: 1.7918 - val_accuracy: 0.1683\n",
            "Epoch 3/10\n",
            "10/10 [==============================] - 59s 6s/step - loss: 1.7918 - accuracy: 0.1640 - val_loss: 1.7918 - val_accuracy: 0.1683\n",
            "Epoch 4/10\n",
            "10/10 [==============================] - 59s 6s/step - loss: 1.7918 - accuracy: 0.1718 - val_loss: 1.7918 - val_accuracy: 0.1683\n",
            "Epoch 5/10\n",
            "10/10 [==============================] - 59s 6s/step - loss: 1.7918 - accuracy: 0.1773 - val_loss: 1.7918 - val_accuracy: 0.1683\n",
            "Epoch 6/10\n",
            "10/10 [==============================] - 59s 6s/step - loss: 1.7918 - accuracy: 0.1549 - val_loss: 1.7918 - val_accuracy: 0.1683\n",
            "Epoch 7/10\n",
            "10/10 [==============================] - 59s 6s/step - loss: 1.7918 - accuracy: 0.1775 - val_loss: 1.7918 - val_accuracy: 0.1683\n",
            "Epoch 8/10\n",
            "10/10 [==============================] - 59s 6s/step - loss: 1.7918 - accuracy: 0.1738 - val_loss: 1.7918 - val_accuracy: 0.1683\n",
            "Epoch 9/10\n",
            "10/10 [==============================] - 59s 6s/step - loss: 1.7918 - accuracy: 0.1494 - val_loss: 1.7918 - val_accuracy: 0.1683\n",
            "Epoch 10/10\n",
            "10/10 [==============================] - 59s 6s/step - loss: 1.7918 - accuracy: 0.1543 - val_loss: 1.7918 - val_accuracy: 0.1683\n"
          ],
          "name": "stdout"
        }
      ]
    },
    {
      "cell_type": "code",
      "metadata": {
        "id": "22G8pxfS6SAx"
      },
      "source": [
        ""
      ],
      "execution_count": null,
      "outputs": []
    },
    {
      "cell_type": "code",
      "metadata": {
        "id": "64wMklT46SEJ"
      },
      "source": [
        ""
      ],
      "execution_count": null,
      "outputs": []
    },
    {
      "cell_type": "markdown",
      "metadata": {
        "id": "_DNUzEG0zj1J"
      },
      "source": [
        "Experiment 2 "
      ]
    },
    {
      "cell_type": "code",
      "metadata": {
        "colab": {
          "base_uri": "https://localhost:8080/"
        },
        "id": "QMTi7zhQ9B_V",
        "outputId": "dd42c8a3-57fb-4fd4-c78c-2199fe1da853"
      },
      "source": [
        "from tensorflow.keras.applications.vgg16 import VGG16\r\n",
        "\r\n",
        "\r\n",
        "train_ds = tf.keras.preprocessing.image_dataset_from_directory(\r\n",
        "    \"/content/drive/MyDrive/Agriculture Vision Dataset/New Augmented\",\r\n",
        "    image_size=(224,224),\r\n",
        "    validation_split=0.1,\r\n",
        "    subset=\"training\",\r\n",
        "    seed=123,\r\n",
        "    batch_size=16,\r\n",
        ")\r\n",
        "val_ds = tf.keras.preprocessing.image_dataset_from_directory(\r\n",
        "    \"/content/drive/MyDrive/Agriculture Vision Dataset/New Augmented\",\r\n",
        "    validation_split=0.1,\r\n",
        "    subset=\"validation\",\r\n",
        "    seed=123,\r\n",
        "    image_size=(224,224),\r\n",
        "    batch_size=16,\r\n",
        ")\r\n",
        "\r\n",
        "num_classes = 4\r\n",
        "\r\n",
        "base_model = VGG16(include_top=False,\r\n",
        "                  input_shape = (224,224,3),\r\n",
        "                  weights = None)\r\n",
        "for layer in base_model.layers[:-8]:\r\n",
        "    layer.trainable = False\r\n",
        "    \r\n",
        "for layer in base_model.layers:\r\n",
        "    print(layer,layer.trainable)\r\n"
      ],
      "execution_count": null,
      "outputs": [
        {
          "output_type": "stream",
          "text": [
            "Found 8000 files belonging to 4 classes.\n",
            "Using 7200 files for training.\n",
            "Found 8000 files belonging to 4 classes.\n",
            "Using 800 files for validation.\n",
            "<tensorflow.python.keras.engine.input_layer.InputLayer object at 0x7f9c90292a90> False\n",
            "<tensorflow.python.keras.layers.convolutional.Conv2D object at 0x7f9c5411ca90> False\n",
            "<tensorflow.python.keras.layers.convolutional.Conv2D object at 0x7f9ca2aaff50> False\n",
            "<tensorflow.python.keras.layers.pooling.MaxPooling2D object at 0x7f9c424f5a10> False\n",
            "<tensorflow.python.keras.layers.convolutional.Conv2D object at 0x7f9c4fa949d0> False\n",
            "<tensorflow.python.keras.layers.convolutional.Conv2D object at 0x7f9ca134a810> False\n",
            "<tensorflow.python.keras.layers.pooling.MaxPooling2D object at 0x7f9ca134a890> False\n",
            "<tensorflow.python.keras.layers.convolutional.Conv2D object at 0x7f9c42502d10> False\n",
            "<tensorflow.python.keras.layers.convolutional.Conv2D object at 0x7f9ca2449ad0> False\n",
            "<tensorflow.python.keras.layers.convolutional.Conv2D object at 0x7f9ca131c610> False\n",
            "<tensorflow.python.keras.layers.pooling.MaxPooling2D object at 0x7f9ca131ce50> False\n",
            "<tensorflow.python.keras.layers.convolutional.Conv2D object at 0x7f9ca23f5f10> True\n",
            "<tensorflow.python.keras.layers.convolutional.Conv2D object at 0x7f9c90458cd0> True\n",
            "<tensorflow.python.keras.layers.convolutional.Conv2D object at 0x7f9c424fb810> True\n",
            "<tensorflow.python.keras.layers.pooling.MaxPooling2D object at 0x7f9ca1317390> True\n",
            "<tensorflow.python.keras.layers.convolutional.Conv2D object at 0x7f9c90458bd0> True\n",
            "<tensorflow.python.keras.layers.convolutional.Conv2D object at 0x7f9b580cfcd0> True\n",
            "<tensorflow.python.keras.layers.convolutional.Conv2D object at 0x7f9ca1345050> True\n",
            "<tensorflow.python.keras.layers.pooling.MaxPooling2D object at 0x7f9ba8074f90> True\n"
          ],
          "name": "stdout"
        }
      ]
    },
    {
      "cell_type": "code",
      "metadata": {
        "colab": {
          "base_uri": "https://localhost:8080/"
        },
        "id": "nFBy2pAR9CC5",
        "outputId": "ba5f49fb-5077-46e7-9272-6e96a724c91a"
      },
      "source": [
        "from keras.layers import Conv2D, MaxPooling2D, Dense, Dropout, Input, Flatten, SeparableConv2D,GlobalAveragePooling2D\r\n",
        "\r\n",
        "model = Sequential()\r\n",
        "model.add(base_model)\r\n",
        "# model.add(GlobalAveragePooling2D())\r\n",
        "model.add(Flatten())\r\n",
        "# model.add(Dropout(0.5))\r\n",
        "model.add(Dense(256,activation='relu'))\r\n",
        "model.add(Dropout(0.2))\r\n",
        "model.add(Dense(128,activation='relu'))\r\n",
        "model.add(Dropout(0.2))\r\n",
        "model.add(Dense(4,activation='softmax'))\r\n",
        "model.summary()\r\n",
        "\r\n"
      ],
      "execution_count": null,
      "outputs": [
        {
          "output_type": "stream",
          "text": [
            "Model: \"sequential_24\"\n",
            "_________________________________________________________________\n",
            "Layer (type)                 Output Shape              Param #   \n",
            "=================================================================\n",
            "vgg16 (Functional)           (None, 7, 7, 512)         14714688  \n",
            "_________________________________________________________________\n",
            "flatten_10 (Flatten)         (None, 25088)             0         \n",
            "_________________________________________________________________\n",
            "dense_62 (Dense)             (None, 256)               6422784   \n",
            "_________________________________________________________________\n",
            "dropout_19 (Dropout)         (None, 256)               0         \n",
            "_________________________________________________________________\n",
            "dense_63 (Dense)             (None, 128)               32896     \n",
            "_________________________________________________________________\n",
            "dropout_20 (Dropout)         (None, 128)               0         \n",
            "_________________________________________________________________\n",
            "dense_64 (Dense)             (None, 4)                 516       \n",
            "=================================================================\n",
            "Total params: 21,170,884\n",
            "Trainable params: 19,435,396\n",
            "Non-trainable params: 1,735,488\n",
            "_________________________________________________________________\n"
          ],
          "name": "stdout"
        }
      ]
    },
    {
      "cell_type": "markdown",
      "metadata": {
        "id": "CfJZMZC74Ory"
      },
      "source": [
        "Using SGD optimizer"
      ]
    },
    {
      "cell_type": "code",
      "metadata": {
        "colab": {
          "base_uri": "https://localhost:8080/"
        },
        "id": "-idf_-_nCs_7",
        "outputId": "b4b769df-1e63-4a5f-c481-e0df50cdf26d"
      },
      "source": [
        "opt = tf.keras.optimizers.SGD(learning_rate=0.0001)\r\n",
        "model.compile(optimizer=opt,\r\n",
        "              loss=tf.keras.losses.SparseCategoricalCrossentropy(from_logits=True),\r\n",
        "              metrics=['accuracy'])\r\n",
        "\r\n",
        "vgghist = model.fit(train_ds, validation_data = val_ds, steps_per_epoch = 20, epochs = 20)"
      ],
      "execution_count": null,
      "outputs": [
        {
          "output_type": "stream",
          "text": [
            "Epoch 1/20\n",
            "20/20 [==============================] - 9s 416ms/step - loss: 1.4308 - accuracy: 0.2541 - val_loss: 1.3847 - val_accuracy: 0.2800\n",
            "Epoch 2/20\n",
            "20/20 [==============================] - 8s 409ms/step - loss: 1.3947 - accuracy: 0.2460 - val_loss: 1.3826 - val_accuracy: 0.2500\n",
            "Epoch 3/20\n",
            "20/20 [==============================] - 8s 408ms/step - loss: 1.4005 - accuracy: 0.2644 - val_loss: 1.3806 - val_accuracy: 0.2637\n",
            "Epoch 4/20\n",
            "20/20 [==============================] - 8s 409ms/step - loss: 1.3876 - accuracy: 0.2688 - val_loss: 1.3791 - val_accuracy: 0.2512\n",
            "Epoch 5/20\n",
            "20/20 [==============================] - 8s 408ms/step - loss: 1.4133 - accuracy: 0.1929 - val_loss: 1.3815 - val_accuracy: 0.2488\n",
            "Epoch 6/20\n",
            "20/20 [==============================] - 8s 403ms/step - loss: 1.3723 - accuracy: 0.2904 - val_loss: 1.3756 - val_accuracy: 0.3187\n",
            "Epoch 7/20\n",
            "20/20 [==============================] - 8s 405ms/step - loss: 1.3917 - accuracy: 0.2531 - val_loss: 1.3746 - val_accuracy: 0.2663\n",
            "Epoch 8/20\n",
            "20/20 [==============================] - 8s 402ms/step - loss: 1.3922 - accuracy: 0.2374 - val_loss: 1.3768 - val_accuracy: 0.2625\n",
            "Epoch 9/20\n",
            "20/20 [==============================] - 8s 405ms/step - loss: 1.3801 - accuracy: 0.2542 - val_loss: 1.3741 - val_accuracy: 0.2862\n",
            "Epoch 10/20\n",
            "20/20 [==============================] - 8s 402ms/step - loss: 1.3857 - accuracy: 0.2510 - val_loss: 1.3688 - val_accuracy: 0.3137\n",
            "Epoch 11/20\n",
            "20/20 [==============================] - 8s 405ms/step - loss: 1.3906 - accuracy: 0.2230 - val_loss: 1.3681 - val_accuracy: 0.2988\n",
            "Epoch 12/20\n",
            "20/20 [==============================] - 8s 403ms/step - loss: 1.3888 - accuracy: 0.2277 - val_loss: 1.3672 - val_accuracy: 0.2738\n",
            "Epoch 13/20\n",
            "20/20 [==============================] - 8s 407ms/step - loss: 1.3643 - accuracy: 0.2979 - val_loss: 1.3671 - val_accuracy: 0.3100\n",
            "Epoch 14/20\n",
            "20/20 [==============================] - 8s 403ms/step - loss: 1.3742 - accuracy: 0.2946 - val_loss: 1.3665 - val_accuracy: 0.2887\n",
            "Epoch 15/20\n",
            "20/20 [==============================] - 8s 403ms/step - loss: 1.3866 - accuracy: 0.2537 - val_loss: 1.3639 - val_accuracy: 0.3187\n",
            "Epoch 16/20\n",
            "20/20 [==============================] - 8s 404ms/step - loss: 1.3644 - accuracy: 0.3037 - val_loss: 1.3669 - val_accuracy: 0.3187\n",
            "Epoch 17/20\n",
            "20/20 [==============================] - 8s 403ms/step - loss: 1.3790 - accuracy: 0.2585 - val_loss: 1.3667 - val_accuracy: 0.3413\n",
            "Epoch 18/20\n",
            "20/20 [==============================] - 8s 404ms/step - loss: 1.3627 - accuracy: 0.2939 - val_loss: 1.3649 - val_accuracy: 0.2875\n",
            "Epoch 19/20\n",
            "20/20 [==============================] - 8s 403ms/step - loss: 1.3714 - accuracy: 0.2890 - val_loss: 1.3658 - val_accuracy: 0.2912\n",
            "Epoch 20/20\n",
            "20/20 [==============================] - 8s 404ms/step - loss: 1.3552 - accuracy: 0.3377 - val_loss: 1.3615 - val_accuracy: 0.3350\n"
          ],
          "name": "stdout"
        }
      ]
    },
    {
      "cell_type": "code",
      "metadata": {
        "id": "oZiHBEx7CtDu"
      },
      "source": [
        ""
      ],
      "execution_count": null,
      "outputs": []
    },
    {
      "cell_type": "code",
      "metadata": {
        "id": "AnZ9NTuACtIe"
      },
      "source": [
        ""
      ],
      "execution_count": null,
      "outputs": []
    },
    {
      "cell_type": "markdown",
      "metadata": {
        "id": "Vu0yXb5Q4V_S"
      },
      "source": [
        "Using Adam Optimizer"
      ]
    },
    {
      "cell_type": "code",
      "metadata": {
        "colab": {
          "base_uri": "https://localhost:8080/"
        },
        "id": "sANwMz_U9B1R",
        "outputId": "52f16f81-2e17-40fa-b999-9c71bb75896c"
      },
      "source": [
        "# opt = tf.keras.optimizers.SGD(learning_rate=0.0001,momentum = 0.5)\r\n",
        "model.compile(optimizer='adam',\r\n",
        "              loss=tf.keras.losses.SparseCategoricalCrossentropy(from_logits=True),\r\n",
        "              metrics=['accuracy'])\r\n",
        "\r\n",
        "vgghist = model.fit(train_ds, validation_data = val_ds, steps_per_epoch = 20, epochs = 20)"
      ],
      "execution_count": null,
      "outputs": [
        {
          "output_type": "stream",
          "text": [
            "Epoch 1/20\n",
            "20/20 [==============================] - 9s 412ms/step - loss: 1.4486 - accuracy: 0.2704 - val_loss: 1.3644 - val_accuracy: 0.2950\n",
            "Epoch 2/20\n",
            "20/20 [==============================] - 8s 403ms/step - loss: 1.3481 - accuracy: 0.3083 - val_loss: 1.2786 - val_accuracy: 0.3850\n",
            "Epoch 3/20\n",
            "20/20 [==============================] - 8s 403ms/step - loss: 1.3538 - accuracy: 0.2886 - val_loss: 1.3268 - val_accuracy: 0.3237\n",
            "Epoch 4/20\n",
            "20/20 [==============================] - 8s 406ms/step - loss: 1.3485 - accuracy: 0.3115 - val_loss: 1.2451 - val_accuracy: 0.4150\n",
            "Epoch 5/20\n",
            "20/20 [==============================] - 8s 405ms/step - loss: 1.2800 - accuracy: 0.3897 - val_loss: 1.2824 - val_accuracy: 0.3363\n",
            "Epoch 6/20\n",
            "20/20 [==============================] - 8s 403ms/step - loss: 1.2657 - accuracy: 0.3903 - val_loss: 1.2715 - val_accuracy: 0.4288\n",
            "Epoch 7/20\n",
            "20/20 [==============================] - 8s 405ms/step - loss: 1.2462 - accuracy: 0.4577 - val_loss: 1.2027 - val_accuracy: 0.3862\n",
            "Epoch 8/20\n",
            "20/20 [==============================] - 8s 403ms/step - loss: 1.2785 - accuracy: 0.3868 - val_loss: 1.2288 - val_accuracy: 0.3900\n",
            "Epoch 9/20\n",
            "20/20 [==============================] - 8s 401ms/step - loss: 1.1819 - accuracy: 0.4566 - val_loss: 1.2328 - val_accuracy: 0.3837\n",
            "Epoch 10/20\n",
            "20/20 [==============================] - 8s 404ms/step - loss: 1.3220 - accuracy: 0.3660 - val_loss: 1.3666 - val_accuracy: 0.2587\n",
            "Epoch 11/20\n",
            "20/20 [==============================] - 8s 404ms/step - loss: 1.3763 - accuracy: 0.3054 - val_loss: 1.3504 - val_accuracy: 0.2525\n",
            "Epoch 12/20\n",
            "20/20 [==============================] - 8s 405ms/step - loss: 1.3552 - accuracy: 0.3511 - val_loss: 1.3243 - val_accuracy: 0.3950\n",
            "Epoch 13/20\n",
            "20/20 [==============================] - 8s 403ms/step - loss: 1.2861 - accuracy: 0.3656 - val_loss: 1.2761 - val_accuracy: 0.3450\n",
            "Epoch 14/20\n",
            "20/20 [==============================] - 8s 405ms/step - loss: 1.3377 - accuracy: 0.3298 - val_loss: 1.2471 - val_accuracy: 0.4025\n",
            "Epoch 15/20\n",
            "20/20 [==============================] - 8s 409ms/step - loss: 1.2608 - accuracy: 0.3416 - val_loss: 1.2029 - val_accuracy: 0.3825\n",
            "Epoch 16/20\n",
            "20/20 [==============================] - 8s 406ms/step - loss: 1.2134 - accuracy: 0.3770 - val_loss: 1.2524 - val_accuracy: 0.3600\n",
            "Epoch 17/20\n",
            "20/20 [==============================] - 8s 405ms/step - loss: 1.3602 - accuracy: 0.3055 - val_loss: 1.2867 - val_accuracy: 0.3363\n",
            "Epoch 18/20\n",
            "20/20 [==============================] - 8s 405ms/step - loss: 1.2773 - accuracy: 0.3435 - val_loss: 1.2073 - val_accuracy: 0.4087\n",
            "Epoch 19/20\n",
            "20/20 [==============================] - 8s 406ms/step - loss: 1.3120 - accuracy: 0.3202 - val_loss: 1.1474 - val_accuracy: 0.4575\n",
            "Epoch 20/20\n",
            "20/20 [==============================] - 8s 404ms/step - loss: 1.2362 - accuracy: 0.4598 - val_loss: 1.2476 - val_accuracy: 0.3887\n"
          ],
          "name": "stdout"
        }
      ]
    },
    {
      "cell_type": "code",
      "metadata": {
        "id": "yGu9iMC1CtWZ"
      },
      "source": [
        ""
      ],
      "execution_count": null,
      "outputs": []
    },
    {
      "cell_type": "code",
      "metadata": {
        "id": "3-D0wF85CtZ9"
      },
      "source": [
        ""
      ],
      "execution_count": null,
      "outputs": []
    },
    {
      "cell_type": "markdown",
      "metadata": {
        "id": "HM7l1cfA7V4-"
      },
      "source": [
        "Experiment 3"
      ]
    },
    {
      "cell_type": "markdown",
      "metadata": {
        "id": "diT_yp4J7i_s"
      },
      "source": [
        "Using Image size (224,224)"
      ]
    },
    {
      "cell_type": "code",
      "metadata": {
        "colab": {
          "base_uri": "https://localhost:8080/"
        },
        "id": "hsmkVqeQtU5z",
        "outputId": "bba49254-73cc-4f64-baa9-22ab64f760ef"
      },
      "source": [
        "from tensorflow.keras.applications.vgg16 import VGG16\r\n",
        "\r\n",
        "\r\n",
        "train_ds = tf.keras.preprocessing.image_dataset_from_directory(\r\n",
        "    \"/content/drive/MyDrive/Agriculture Vision Dataset/New Augmented\",\r\n",
        "    image_size=(224,224),\r\n",
        "    validation_split=0.1,\r\n",
        "    subset=\"training\",\r\n",
        "    seed=123,\r\n",
        "    batch_size=32,\r\n",
        ")\r\n",
        "val_ds = tf.keras.preprocessing.image_dataset_from_directory(\r\n",
        "    \"/content/drive/MyDrive/Agriculture Vision Dataset/New Augmented\",\r\n",
        "    validation_split=0.1,\r\n",
        "    subset=\"validation\",\r\n",
        "    seed=123,\r\n",
        "    image_size=(224,224),\r\n",
        "    batch_size=32,\r\n",
        ")\r\n",
        "\r\n",
        "num_classes = 4\r\n",
        "\r\n",
        "base_model = VGG16(include_top=False,\r\n",
        "                  input_shape = (224,224,3),\r\n",
        "                  weights = None)\r\n",
        "for layer in base_model.layers[:-12]:\r\n",
        "    layer.trainable = False\r\n",
        "    \r\n",
        "for layer in base_model.layers:\r\n",
        "    print(layer,layer.trainable)\r\n"
      ],
      "execution_count": null,
      "outputs": [
        {
          "output_type": "stream",
          "text": [
            "Found 8000 files belonging to 4 classes.\n",
            "Using 7200 files for training.\n",
            "Found 8000 files belonging to 4 classes.\n",
            "Using 800 files for validation.\n",
            "<tensorflow.python.keras.engine.input_layer.InputLayer object at 0x7f9c90387fd0> False\n",
            "<tensorflow.python.keras.layers.convolutional.Conv2D object at 0x7f9c4f99d510> False\n",
            "<tensorflow.python.keras.layers.convolutional.Conv2D object at 0x7f9c9046edd0> False\n",
            "<tensorflow.python.keras.layers.pooling.MaxPooling2D object at 0x7f9c4c4cdf50> False\n",
            "<tensorflow.python.keras.layers.convolutional.Conv2D object at 0x7f9c4c519cd0> False\n",
            "<tensorflow.python.keras.layers.convolutional.Conv2D object at 0x7f9c4c23dd10> False\n",
            "<tensorflow.python.keras.layers.pooling.MaxPooling2D object at 0x7f9c4c208d10> False\n",
            "<tensorflow.python.keras.layers.convolutional.Conv2D object at 0x7f9c4c212350> True\n",
            "<tensorflow.python.keras.layers.convolutional.Conv2D object at 0x7f9c4c59d550> True\n",
            "<tensorflow.python.keras.layers.convolutional.Conv2D object at 0x7f9c4fa35310> True\n",
            "<tensorflow.python.keras.layers.pooling.MaxPooling2D object at 0x7f9ca2abd490> True\n",
            "<tensorflow.python.keras.layers.convolutional.Conv2D object at 0x7f9ca29dfe90> True\n",
            "<tensorflow.python.keras.layers.convolutional.Conv2D object at 0x7f9c4f8a3310> True\n",
            "<tensorflow.python.keras.layers.convolutional.Conv2D object at 0x7f9c4f863b90> True\n",
            "<tensorflow.python.keras.layers.pooling.MaxPooling2D object at 0x7f9ca2a7f250> True\n",
            "<tensorflow.python.keras.layers.convolutional.Conv2D object at 0x7f9c4f863e10> True\n",
            "<tensorflow.python.keras.layers.convolutional.Conv2D object at 0x7f9c4c227dd0> True\n",
            "<tensorflow.python.keras.layers.convolutional.Conv2D object at 0x7f9c4c227d50> True\n",
            "<tensorflow.python.keras.layers.pooling.MaxPooling2D object at 0x7f9c4c230c50> True\n"
          ],
          "name": "stdout"
        }
      ]
    },
    {
      "cell_type": "code",
      "metadata": {
        "id": "f0AQfaXFtU8K"
      },
      "source": [
        "from keras.layers import Conv2D, MaxPooling2D, Dense, Dropout, Input, Flatten, SeparableConv2D,GlobalAveragePooling2D\r\n",
        "\r\n",
        "model = Sequential()\r\n",
        "model.add(base_model)\r\n",
        "model.add(GlobalAveragePooling2D())\r\n",
        "model.add(Dense(1024,activation='relu'))\r\n",
        "# model.add(Dropout(0.5))\r\n",
        "model.add(Dense(512,activation='relu'))\r\n",
        "# model.add(Dropout(0.5))\r\n",
        "model.add(Dense(6,activation='relu'))\r\n",
        "model.summary()\r\n",
        "\r\n"
      ],
      "execution_count": null,
      "outputs": []
    },
    {
      "cell_type": "code",
      "metadata": {
        "id": "K0QTIrvzhdRd",
        "colab": {
          "base_uri": "https://localhost:8080/"
        },
        "outputId": "3d7ceba3-0b43-48b6-b0f5-217badbde7f9"
      },
      "source": [
        "model.compile(optimizer='adam',\r\n",
        "              loss=tf.keras.losses.SparseCategoricalCrossentropy(from_logits=True),\r\n",
        "              metrics=['accuracy'])\r\n",
        "\r\n",
        "vgghist = model.fit(train_ds, validation_data = val_ds, steps_per_epoch = 10, epochs = 20)"
      ],
      "execution_count": null,
      "outputs": [
        {
          "output_type": "stream",
          "text": [
            "Epoch 1/20\n",
            "10/10 [==============================] - 10s 908ms/step - loss: 1.7939 - accuracy: 0.2191 - val_loss: 1.7674 - val_accuracy: 0.2438\n",
            "Epoch 2/20\n",
            "10/10 [==============================] - 8s 893ms/step - loss: 1.7601 - accuracy: 0.2309 - val_loss: 1.7110 - val_accuracy: 0.2438\n",
            "Epoch 3/20\n",
            "10/10 [==============================] - 8s 895ms/step - loss: 1.7012 - accuracy: 0.2616 - val_loss: 1.6885 - val_accuracy: 0.2488\n",
            "Epoch 4/20\n",
            "10/10 [==============================] - 9s 915ms/step - loss: 1.5832 - accuracy: 0.2775 - val_loss: 1.6606 - val_accuracy: 0.3262\n",
            "Epoch 5/20\n",
            "10/10 [==============================] - 9s 909ms/step - loss: 1.6830 - accuracy: 0.3111 - val_loss: 1.6355 - val_accuracy: 0.3025\n",
            "Epoch 6/20\n",
            "10/10 [==============================] - 8s 903ms/step - loss: 1.6255 - accuracy: 0.3306 - val_loss: 1.7347 - val_accuracy: 0.3550\n",
            "Epoch 7/20\n",
            "10/10 [==============================] - 8s 894ms/step - loss: 1.7603 - accuracy: 0.3282 - val_loss: 1.7009 - val_accuracy: 0.3225\n",
            "Epoch 8/20\n",
            "10/10 [==============================] - 8s 895ms/step - loss: 1.6444 - accuracy: 0.3440 - val_loss: 1.7241 - val_accuracy: 0.3250\n",
            "Epoch 9/20\n",
            "10/10 [==============================] - 8s 890ms/step - loss: 1.6292 - accuracy: 0.3422 - val_loss: 1.6393 - val_accuracy: 0.2438\n",
            "Epoch 10/20\n",
            "10/10 [==============================] - 8s 889ms/step - loss: 1.6870 - accuracy: 0.2181 - val_loss: 1.6250 - val_accuracy: 0.3375\n",
            "Epoch 11/20\n",
            "10/10 [==============================] - 8s 893ms/step - loss: 1.6056 - accuracy: 0.3244 - val_loss: 1.6184 - val_accuracy: 0.3363\n",
            "Epoch 12/20\n",
            "10/10 [==============================] - 8s 890ms/step - loss: 1.5824 - accuracy: 0.3417 - val_loss: 1.6738 - val_accuracy: 0.3162\n",
            "Epoch 13/20\n",
            "10/10 [==============================] - 8s 893ms/step - loss: 1.7117 - accuracy: 0.2841 - val_loss: 1.6622 - val_accuracy: 0.3013\n",
            "Epoch 14/20\n",
            "10/10 [==============================] - 8s 896ms/step - loss: 1.6586 - accuracy: 0.2965 - val_loss: 1.5794 - val_accuracy: 0.4900\n",
            "Epoch 15/20\n",
            "10/10 [==============================] - 8s 897ms/step - loss: 1.5551 - accuracy: 0.4791 - val_loss: 1.5802 - val_accuracy: 0.3300\n",
            "Epoch 16/20\n",
            "10/10 [==============================] - 8s 894ms/step - loss: 1.5555 - accuracy: 0.3870 - val_loss: 1.4879 - val_accuracy: 0.4338\n",
            "Epoch 17/20\n",
            "10/10 [==============================] - 8s 893ms/step - loss: 1.5793 - accuracy: 0.3458 - val_loss: 1.5332 - val_accuracy: 0.3700\n",
            "Epoch 18/20\n",
            "10/10 [==============================] - 8s 894ms/step - loss: 1.4839 - accuracy: 0.4083 - val_loss: 1.6105 - val_accuracy: 0.3500\n",
            "Epoch 19/20\n",
            "10/10 [==============================] - 8s 886ms/step - loss: 1.5622 - accuracy: 0.4198 - val_loss: 1.4601 - val_accuracy: 0.4588\n",
            "Epoch 20/20\n",
            "10/10 [==============================] - 8s 892ms/step - loss: 1.4562 - accuracy: 0.3869 - val_loss: 1.4401 - val_accuracy: 0.4638\n"
          ],
          "name": "stdout"
        }
      ]
    },
    {
      "cell_type": "code",
      "metadata": {
        "id": "zeyMpQuB7PPQ"
      },
      "source": [
        ""
      ],
      "execution_count": null,
      "outputs": []
    },
    {
      "cell_type": "markdown",
      "metadata": {
        "id": "lA1Y_Pei7PvM"
      },
      "source": [
        "Using Image Size (512,512)"
      ]
    },
    {
      "cell_type": "code",
      "metadata": {
        "colab": {
          "base_uri": "https://localhost:8080/"
        },
        "id": "wCx1WHap4Mie",
        "outputId": "af8ff443-dc74-4dc9-df34-08eabd99b577"
      },
      "source": [
        "model.compile(optimizer='adam',\r\n",
        "              loss=tf.keras.losses.SparseCategoricalCrossentropy(from_logits=True),\r\n",
        "              metrics=['accuracy'])\r\n",
        "\r\n",
        "vgghist = model.fit(train_ds, validation_data = val_ds, steps_per_epoch = 10, epochs = 20)"
      ],
      "execution_count": null,
      "outputs": [
        {
          "output_type": "stream",
          "text": [
            "Epoch 1/20\n",
            "10/10 [==============================] - 35s 4s/step - loss: 375.6192 - accuracy: 0.2718 - val_loss: 1.7777 - val_accuracy: 0.2713\n",
            "Epoch 2/20\n",
            "10/10 [==============================] - 32s 3s/step - loss: 1.8545 - accuracy: 0.2469 - val_loss: 1.7666 - val_accuracy: 0.2438\n",
            "Epoch 3/20\n",
            "10/10 [==============================] - 32s 3s/step - loss: 1.7869 - accuracy: 0.2388 - val_loss: 1.7768 - val_accuracy: 0.2713\n",
            "Epoch 4/20\n",
            "10/10 [==============================] - 32s 3s/step - loss: 1.7778 - accuracy: 0.2612 - val_loss: 1.7336 - val_accuracy: 0.2713\n",
            "Epoch 5/20\n",
            "10/10 [==============================] - 32s 3s/step - loss: 1.7430 - accuracy: 0.2873 - val_loss: 1.7393 - val_accuracy: 0.3512\n",
            "Epoch 6/20\n",
            "10/10 [==============================] - 32s 3s/step - loss: 1.7314 - accuracy: 0.3291 - val_loss: 1.7486 - val_accuracy: 0.3200\n",
            "Epoch 7/20\n",
            "10/10 [==============================] - 32s 3s/step - loss: 1.7582 - accuracy: 0.2585 - val_loss: 1.7479 - val_accuracy: 0.2713\n",
            "Epoch 8/20\n",
            "10/10 [==============================] - 32s 3s/step - loss: 1.7424 - accuracy: 0.2810 - val_loss: 1.7279 - val_accuracy: 0.2600\n",
            "Epoch 9/20\n",
            "10/10 [==============================] - 32s 3s/step - loss: 1.7528 - accuracy: 0.2988 - val_loss: 1.7270 - val_accuracy: 0.2450\n",
            "Epoch 10/20\n",
            "10/10 [==============================] - 32s 3s/step - loss: 1.7082 - accuracy: 0.2657 - val_loss: 1.7310 - val_accuracy: 0.2713\n",
            "Epoch 11/20\n",
            "10/10 [==============================] - 32s 3s/step - loss: 1.7509 - accuracy: 0.2536 - val_loss: 1.7404 - val_accuracy: 0.2713\n",
            "Epoch 12/20\n",
            "10/10 [==============================] - 32s 3s/step - loss: 1.7461 - accuracy: 0.2676 - val_loss: 1.7358 - val_accuracy: 0.2713\n",
            "Epoch 13/20\n",
            "10/10 [==============================] - 32s 3s/step - loss: 1.7267 - accuracy: 0.2670 - val_loss: 1.7266 - val_accuracy: 0.3587\n",
            "Epoch 14/20\n",
            "10/10 [==============================] - 32s 3s/step - loss: 1.7394 - accuracy: 0.2870 - val_loss: 1.7319 - val_accuracy: 0.2713\n",
            "Epoch 15/20\n",
            "10/10 [==============================] - 32s 3s/step - loss: 1.7229 - accuracy: 0.2628 - val_loss: 1.7255 - val_accuracy: 0.2713\n",
            "Epoch 16/20\n",
            "10/10 [==============================] - 32s 3s/step - loss: 1.7557 - accuracy: 0.2467 - val_loss: 1.7242 - val_accuracy: 0.2713\n",
            "Epoch 17/20\n",
            "10/10 [==============================] - 32s 3s/step - loss: 1.7434 - accuracy: 0.2217 - val_loss: 1.7281 - val_accuracy: 0.2438\n",
            "Epoch 18/20\n",
            "10/10 [==============================] - 32s 3s/step - loss: 1.7204 - accuracy: 0.3192 - val_loss: 1.7295 - val_accuracy: 0.2438\n",
            "Epoch 19/20\n",
            "10/10 [==============================] - 32s 3s/step - loss: 1.7467 - accuracy: 0.2578 - val_loss: 1.7282 - val_accuracy: 0.2438\n",
            "Epoch 20/20\n",
            "10/10 [==============================] - 32s 3s/step - loss: 1.7341 - accuracy: 0.2429 - val_loss: 1.7273 - val_accuracy: 0.2713\n"
          ],
          "name": "stdout"
        }
      ]
    }
  ]
}